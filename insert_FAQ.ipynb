{
  "nbformat": 4,
  "nbformat_minor": 0,
  "metadata": {
    "colab": {
      "provenance": []
    },
    "kernelspec": {
      "name": "python3",
      "display_name": "Python 3"
    },
    "language_info": {
      "name": "python"
    }
  },
  "cells": [
    {
      "cell_type": "code",
      "execution_count": null,
      "metadata": {
        "colab": {
          "base_uri": "https://localhost:8080/"
        },
        "id": "1xpJ-DCDxIPq",
        "outputId": "fb982a51-16f0-43e8-9528-3777b0bae73b"
      },
      "outputs": [
        {
          "output_type": "stream",
          "name": "stdout",
          "text": [
            "Collecting pymongo\n",
            "  Downloading pymongo-4.5.0-cp310-cp310-manylinux_2_17_x86_64.manylinux2014_x86_64.whl (671 kB)\n",
            "\u001b[2K     \u001b[90m━━━━━━━━━━━━━━━━━━━━━━━━━━━━━━━━━━━━━━━━\u001b[0m \u001b[32m671.3/671.3 kB\u001b[0m \u001b[31m8.2 MB/s\u001b[0m eta \u001b[36m0:00:00\u001b[0m\n",
            "\u001b[?25hCollecting dnspython<3.0.0,>=1.16.0 (from pymongo)\n",
            "  Downloading dnspython-2.4.2-py3-none-any.whl (300 kB)\n",
            "\u001b[2K     \u001b[90m━━━━━━━━━━━━━━━━━━━━━━━━━━━━━━━━━━━━━━━━\u001b[0m \u001b[32m300.4/300.4 kB\u001b[0m \u001b[31m33.3 MB/s\u001b[0m eta \u001b[36m0:00:00\u001b[0m\n",
            "\u001b[?25hInstalling collected packages: dnspython, pymongo\n",
            "Successfully installed dnspython-2.4.2 pymongo-4.5.0\n"
          ]
        }
      ],
      "source": [
        "! pip install pymongo\n",
        "import pymongo\n",
        "import os\n",
        "from pymongo import MongoClient"
      ]
    },
    {
      "cell_type": "code",
      "source": [
        "mgdb_host = os.getenv(\"MONGODB_HOST\")\n",
        "mgdb_port = int(os.getenv(\"MONGODB_PORT\")\n",
        "mgdb_username = os.getenv(\"MONGODB_USERNAME\")\n",
        "mgdb_password = os.getenv(\"MONGODB_PASSWORD\")\n",
        "mgdb_database = os.getenv(\"MONGODB_DATABASE\")\n",
        "mgdb_collection = os.getenv(\"MONGODB_COLLECTION\")\n",
        "\n",
        "client = MongoClient(f\"mongodb+srv://{mgdb_username}:{mgdb_password}@{mgdb_host}/{mgdb_database}\")\n",
        "database = client[mgdb_database]\n",
        "collection = database[mgdb_collection]"
      ],
      "metadata": {
        "id": "SQVdhSDWxOeC"
      },
      "execution_count": null,
      "outputs": []
    },
    {
      "cell_type": "code",
      "source": [
        "insert_dict = {\n",
        "    'Question': '',\n",
        "    'Answer': \"\"\n",
        "}\n",
        "# Insert the document into the collection\n",
        "collection.insert_one(insert_dict)\n",
        "\n",
        "print('Insert success')"
      ],
      "metadata": {
        "id": "OABqTXSi2Y4h",
        "colab": {
          "base_uri": "https://localhost:8080/"
        },
        "outputId": "f541cf76-d8e2-4396-fff7-4961189d4ef8"
      },
      "execution_count": null,
      "outputs": [
        {
          "output_type": "stream",
          "name": "stdout",
          "text": [
            "Insert success\n"
          ]
        }
      ]
    },
    {
      "cell_type": "code",
      "source": [
        "client.close()"
      ],
      "metadata": {
        "id": "SuN-mPldzOUP"
      },
      "execution_count": null,
      "outputs": []
    }
  ]
}
